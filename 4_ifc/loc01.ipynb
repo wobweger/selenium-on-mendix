{
 "cells": [
  {
   "cell_type": "markdown",
   "metadata": {},
   "source": [
    "# selenium on mendix\n",
    "\n",
    "in case you want to perform identical navigation actions and would like to measure how long it takes to reveice pages, selenium can help.\n",
    "\n",
    "In mendix Mendix Studio (Pro) or you name widgets. Widgets names show up in class attribute.\n",
    "For example if widget is named `mx-name-actionButton7` in side a snippet and this snippet is used in a list view several times, selenium `find_elements_by_class_name` can be used to get a list of all elements having a certain name.\n",
    "```python\n",
    "lElem=browser.find_elements_by_class_name(\"mx-name-actionButton7\")\n",
    "```\n",
    "After that elements `text` attribute can be used to get the one item you want to navigate to.\n",
    "\n",
    "This notebook navigates to\n",
    "+ a tab identified by CSS selector `.mx-name-Courses`\n",
    "+ wait for a `mx-name-actionButton7` named `Quick intro`\n",
    "+ navigate to it\n",
    "+ wait for a `mx-name-actionButton7` named `Back`\n",
    "+ navigate to it\n",
    "+ wait for `.mx-name-Courses` completing the loop\n",
    "\n",
    "manually you can repeat the loop as many times you like be setting Jupyter Notebooks run block.\n",
    "\n",
    "When you are happy with amount of measurements take, results are written via pandas to an Excel file `xlsx` to sheet `rsp` (response). Aggregated values are available in sheet `agg` (min, mean, max). To make sure results are not overwritten by accident, current timestamp (UTC) is part of filename.\n",
    "\n",
    "Please download selenium drivers and place them in your path before running notebook, an excellent place to start is here on [github](https://github.com/SeleniumHQ/selenium)."
   ]
  },
  {
   "cell_type": "code",
   "execution_count": 1,
   "metadata": {},
   "outputs": [],
   "source": [
    "import time\n",
    "import pandas\n",
    "from selenium import webdriver\n",
    "from selenium.webdriver.support.ui import WebDriverWait\n",
    "from selenium.webdriver.common.by import By\n",
    "from selenium.webdriver.support.expected_conditions import presence_of_element_located"
   ]
  },
  {
   "cell_type": "markdown",
   "metadata": {},
   "source": [
    "define constants"
   ]
  },
  {
   "cell_type": "code",
   "execution_count": 2,
   "metadata": {},
   "outputs": [],
   "source": [
    "sDrvChrome='c:/apps/seleniumDrv/chromedriver.exe'"
   ]
  },
  {
   "cell_type": "code",
   "execution_count": 3,
   "metadata": {},
   "outputs": [],
   "source": [
    "sUrlBase='http://localhost:8080/'"
   ]
  },
  {
   "cell_type": "code",
   "execution_count": 4,
   "metadata": {},
   "outputs": [],
   "source": [
    "sUrlLogin=sUrlBase+'login.html'"
   ]
  },
  {
   "cell_type": "code",
   "execution_count": 5,
   "metadata": {},
   "outputs": [],
   "source": [
    "sUrlHome=sUrlBase+'link/home'"
   ]
  },
  {
   "cell_type": "code",
   "execution_count": 6,
   "metadata": {},
   "outputs": [],
   "source": [
    "sUrlLearn=sUrlBase+'link/learn'"
   ]
  },
  {
   "cell_type": "markdown",
   "metadata": {},
   "source": [
    "define functions"
   ]
  },
  {
   "cell_type": "code",
   "execution_count": 7,
   "metadata": {},
   "outputs": [],
   "source": [
    "def measureGet(browser,sUrl):\n",
    "    zBeg=time.time()\n",
    "    browser.get(sUrl)\n",
    "    zEnd=time.time()\n",
    "    fResponse=zEnd-zBeg\n",
    "    print(fResponse)\n",
    "    return fResponse,zBeg,zEnd"
   ]
  },
  {
   "cell_type": "code",
   "execution_count": 8,
   "metadata": {},
   "outputs": [],
   "source": [
    "def measureDone(zBeg,sClsName=None):\n",
    "    zUsr=time.time()\n",
    "    fResponseUsr=zUsr-zBeg\n",
    "    if sClsName is not None:\n",
    "        lElem=browser.find_elements_by_class_name(sClsName)\n",
    "        showElemLst(lElem,None)\n",
    "    else:\n",
    "        lElem=None\n",
    "    print(fResponseUsr)\n",
    "    return lElem,fResponseUsr,zBeg,zUsr"
   ]
  },
  {
   "cell_type": "code",
   "execution_count": 9,
   "metadata": {},
   "outputs": [],
   "source": [
    "class ChkPresent(object):\n",
    "    def __init__(self,sClsName,sMatch):\n",
    "        self.sClsName=sClsName\n",
    "        self.sMatch=sMatch\n",
    "    def __call__(self,browser):\n",
    "        lElem=browser.find_elements_by_class_name(self.sClsName)\n",
    "        try:\n",
    "            if self.sMatch is None:\n",
    "                return lElem\n",
    "            for elem in lElem:\n",
    "                if elem.text.startswith(self.sMatch):\n",
    "                    return elem\n",
    "        except:\n",
    "            #print('execption')\n",
    "            #print(repr(lElem))\n",
    "            pass\n",
    "        return False"
   ]
  },
  {
   "cell_type": "code",
   "execution_count": 10,
   "metadata": {},
   "outputs": [],
   "source": [
    "def showElemLst(lElem,sMatch):\n",
    "    try:\n",
    "        if sMatch is None:\n",
    "            for elem in lElem:\n",
    "                print(elem.text)\n",
    "        else:\n",
    "            #print(lElem)\n",
    "            print(lElem.text)\n",
    "    except:\n",
    "        pass\n"
   ]
  },
  {
   "cell_type": "code",
   "execution_count": 11,
   "metadata": {},
   "outputs": [],
   "source": [
    "def measureWait(wait,oWeb,sCssSelector,sMatch):\n",
    "    if oWeb is not None:\n",
    "        #oWeb.move_to_element(oWeb)\n",
    "        oWeb.click()\n",
    "    zBeg=time.time()\n",
    "    lElem=wait.until(ChkPresent(sCssSelector,sMatch))\n",
    "    showElemLst(lElem,sMatch)\n",
    "    zEnd=time.time()\n",
    "    fResponse=zEnd-zBeg\n",
    "    print(fResponse)\n",
    "    return lElem,fResponse,zBeg,zEnd    "
   ]
  },
  {
   "cell_type": "markdown",
   "metadata": {},
   "source": [
    "initialize"
   ]
  },
  {
   "cell_type": "code",
   "execution_count": 12,
   "metadata": {},
   "outputs": [],
   "source": [
    "lRsp=[]"
   ]
  },
  {
   "cell_type": "code",
   "execution_count": 13,
   "metadata": {},
   "outputs": [],
   "source": [
    "browser = webdriver.Chrome(sDrvChrome)"
   ]
  },
  {
   "cell_type": "code",
   "execution_count": 14,
   "metadata": {},
   "outputs": [],
   "source": [
    "wait = WebDriverWait(browser, 60)"
   ]
  },
  {
   "cell_type": "code",
   "execution_count": 15,
   "metadata": {},
   "outputs": [
    {
     "name": "stdout",
     "output_type": "stream",
     "text": [
      "2.6494290828704834\n"
     ]
    },
    {
     "data": {
      "text/plain": [
       "(2.6494290828704834, 1625398119.9296508, 1625398122.5790799)"
      ]
     },
     "execution_count": 15,
     "metadata": {},
     "output_type": "execute_result"
    }
   ],
   "source": [
    "measureGet(browser,sUrlLogin)"
   ]
  },
  {
   "cell_type": "markdown",
   "metadata": {},
   "source": [
    "**manual actions**\n",
    "\n",
    "+ enter credentials\n",
    "+ switch to role citizen, select `demo_citizen`\n",
    "+ resize browser window\n",
    "+ close popups, if needed, home page should show\n"
   ]
  },
  {
   "cell_type": "code",
   "execution_count": 16,
   "metadata": {},
   "outputs": [
    {
     "name": "stdout",
     "output_type": "stream",
     "text": [
      "0.47274184226989746\n"
     ]
    },
    {
     "data": {
      "text/plain": [
       "(0.47274184226989746, 1625398196.7114632, 1625398197.184205)"
      ]
     },
     "execution_count": 16,
     "metadata": {},
     "output_type": "execute_result"
    }
   ],
   "source": [
    "measureGet(browser,sUrlLearn)"
   ]
  },
  {
   "cell_type": "markdown",
   "metadata": {},
   "source": [
    "click Course"
   ]
  },
  {
   "cell_type": "code",
   "execution_count": 53,
   "metadata": {},
   "outputs": [
    {
     "name": "stdout",
     "output_type": "stream",
     "text": [
      "Quick intro\n",
      "0.6055600643157959\n"
     ]
    }
   ],
   "source": [
    "oCourses=browser.find_element_by_css_selector('.mx-name-Courses')\n",
    "oTut,fRes,fBeg,fEnd=measureWait(wait,oCourses,\"mx-name-actionButton7\",\"Quick intro\")\n",
    "lRsp.append(['course',fRes])"
   ]
  },
  {
   "cell_type": "markdown",
   "metadata": {},
   "source": [
    "click 3rd tutorial"
   ]
  },
  {
   "cell_type": "code",
   "execution_count": 54,
   "metadata": {},
   "outputs": [
    {
     "name": "stdout",
     "output_type": "stream",
     "text": [
      "Back to overview\n",
      "1.9986677169799805\n"
     ]
    }
   ],
   "source": [
    "oBack,fRes,fBeg,fEnd=measureWait(wait,oTut,\"mx-name-actionButton9\",\"Back\")\n",
    "lRsp.append(['tutorial',fRes])"
   ]
  },
  {
   "cell_type": "markdown",
   "metadata": {},
   "source": [
    "click back"
   ]
  },
  {
   "cell_type": "code",
   "execution_count": 55,
   "metadata": {
    "scrolled": true
   },
   "outputs": [
    {
     "name": "stdout",
     "output_type": "stream",
     "text": [
      "Courses\n",
      "0.5609006881713867\n"
     ]
    }
   ],
   "source": [
    "oCourse,fRes,fBeg,fEnd=measureWait(wait,oBack,\"mx-name-Courses\",None)\n",
    "lRsp.append(['back',fRes])"
   ]
  },
  {
   "cell_type": "markdown",
   "metadata": {},
   "source": [
    "show measurements"
   ]
  },
  {
   "cell_type": "code",
   "execution_count": 56,
   "metadata": {},
   "outputs": [],
   "source": [
    "for tRsp in lRsp:\n",
    "    s='%-20s %4.1f'%tuple(tRsp)\n",
    "    print(s)"
   ]
  },
  {
   "cell_type": "markdown",
   "metadata": {},
   "source": [
    "write result"
   ]
  },
  {
   "cell_type": "code",
   "execution_count": 57,
   "metadata": {},
   "outputs": [],
   "source": [
    "sResFN='loc01_res_%s.xlsx'%(time.strftime('%Y%m%d_%H%M',time.gmtime()))\n",
    "oExcel=pandas.ExcelWriter(sResFN)"
   ]
  },
  {
   "cell_type": "code",
   "execution_count": 58,
   "metadata": {},
   "outputs": [],
   "source": [
    "oRes=pandas.DataFrame(lRsp,columns=['action','duration'])\n",
    "oRes.to_excel(oExcel,sheet_name='rsp')"
   ]
  },
  {
   "cell_type": "code",
   "execution_count": 59,
   "metadata": {},
   "outputs": [],
   "source": [
    "oGrp=oRes.groupby('action').agg(['min','mean','max'])\n",
    "oGrp.to_excel(oExcel,sheet_name='agg')"
   ]
  },
  {
   "cell_type": "code",
   "execution_count": 60,
   "metadata": {},
   "outputs": [],
   "source": [
    "oExcel.close()"
   ]
  },
  {
   "cell_type": "code",
   "execution_count": null,
   "metadata": {},
   "outputs": [],
   "source": []
  }
 ],
 "metadata": {
  "kernelspec": {
   "display_name": "Python 3",
   "language": "python",
   "name": "python3"
  },
  "language_info": {
   "codemirror_mode": {
    "name": "ipython",
    "version": 3
   },
   "file_extension": ".py",
   "mimetype": "text/x-python",
   "name": "python",
   "nbconvert_exporter": "python",
   "pygments_lexer": "ipython3",
   "version": "3.7.6"
  }
 },
 "nbformat": 4,
 "nbformat_minor": 4
}
